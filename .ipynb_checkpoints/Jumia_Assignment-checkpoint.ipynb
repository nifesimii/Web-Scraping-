{
 "cells": [
  {
   "cell_type": "code",
   "execution_count": null,
   "metadata": {},
   "outputs": [],
   "source": [
    "import requests\n",
    "from bs4 import BeautifulSoup\n",
    "import pandas as pd\n",
    "# from fake_useragent import UserAgent"
   ]
  },
  {
   "cell_type": "code",
   "execution_count": null,
   "metadata": {},
   "outputs": [],
   "source": [
    "url = 'https://www.jumia.com.ng/catalog/?q=balls'\n",
    "ua = UserAgent()\n",
    "userAgent = ua.random\n",
    "headers = {'User-Agent': userAgent}\n",
    "page = requests.get(url, headers = headers)\n",
    "soup = BeautifulSoup(page.content, 'html.parser')\n",
    "soup"
   ]
  },
  {
   "cell_type": "code",
   "execution_count": null,
   "metadata": {},
   "outputs": [],
   "source": [
    "movie_box = soup.find_all('div', class_ = \"ipc-metadata-list-summary-item__c\")\n",
    "\n",
    "titles = []\n",
    "numbers = []\n",
    "ratings = []\n",
    "\n",
    "for box in movie_box:\n",
    "    #titles\n",
    "    if box.find('h3', class_ = \"ipc-title__text\") is not None:\n",
    "        title = box.find('h3', class_ = \"ipc-title__text\")\n",
    "        titles.append(title.text)\n",
    "    else:\n",
    "        title.append('None')\n",
    "\n",
    "    #numbers\n",
    "    if box.find('ul', attrs={'data-testid': 'title-metadata-box-office-data-container'}) is not None:\n",
    "        number = box.find('ul', attrs={'data-testid': 'title-metadata-box-office-data-container'})\n",
    "        numbers.append(number.text)\n",
    "    else:\n",
    "        numbers.append('None')\n",
    "\n",
    "    #ratings\n",
    "    if box.find('span', attrs={'data-testid': 'ratingGroup--imdb-rating'}) is not None:\n",
    "        rating = box.find('span', attrs={'data-testid': 'ratingGroup--imdb-rating'})\n",
    "        ratings.append(rating.text.replace('\\xa0', ''))\n",
    "    else:\n",
    "        ratings.append('None')\n",
    "\n",
    "movie_df = pd.DataFrame({\n",
    "    'title': titles,\n",
    "    'number': numbers,\n",
    "    'rating': ratings\n",
    "})\n",
    "\n",
    "movie_df"
   ]
  },
  {
   "cell_type": "code",
   "execution_count": null,
   "metadata": {},
   "outputs": [],
   "source": [
    "movie_df.number[0]"
   ]
  },
  {
   "cell_type": "code",
   "execution_count": null,
   "metadata": {},
   "outputs": [],
   "source": [
    "movie_df['number'] = movie_df['number'].str.replace('Weekend Gross: ','').str.replace('Total Gross: ','|').str.replace('Weeks Released: ','|')\n",
    "\n",
    "movie_df[['weekend gross', 'total gross', 'weeks released']] = movie_df['number'].str.split('|', expand = True)\n",
    "movie_df[['ratings', 'vote_count']] = movie_df['rating'].str.split('(', expand = True)\n",
    "movie_df.drop(['number', 'rating'], axis=1, inplace=True)\n",
    "movie_df['vote_count'] = movie_df['vote_count'].str.replace(')', '')\n",
    "movie_df.to_csv('movie_data.csv', index=False)\n"
   ]
  }
 ],
 "metadata": {
  "kernelspec": {
   "display_name": "Python 3 (ipykernel)",
   "language": "python",
   "name": "python3"
  },
  "language_info": {
   "codemirror_mode": {
    "name": "ipython",
    "version": 3
   },
   "file_extension": ".py",
   "mimetype": "text/x-python",
   "name": "python",
   "nbconvert_exporter": "python",
   "pygments_lexer": "ipython3",
   "version": "3.9.12"
  }
 },
 "nbformat": 4,
 "nbformat_minor": 2
}

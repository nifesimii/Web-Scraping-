{
 "cells": [
  {
   "cell_type": "code",
   "execution_count": 1,
   "id": "e4a63c25",
   "metadata": {},
   "outputs": [
    {
     "name": "stdout",
     "output_type": "stream",
     "text": [
      "Requirement already satisfied: selenium in /Users/ademoyeoluwanifesimi/opt/anaconda3/lib/python3.9/site-packages (4.33.0)\r\n",
      "Requirement already satisfied: urllib3~=2.4.0 in /Users/ademoyeoluwanifesimi/opt/anaconda3/lib/python3.9/site-packages (from urllib3[socks]~=2.4.0->selenium) (2.4.0)\r\n",
      "Requirement already satisfied: trio~=0.30.0 in /Users/ademoyeoluwanifesimi/opt/anaconda3/lib/python3.9/site-packages (from selenium) (0.30.0)\r\n",
      "Requirement already satisfied: trio-websocket~=0.12.2 in /Users/ademoyeoluwanifesimi/opt/anaconda3/lib/python3.9/site-packages (from selenium) (0.12.2)\r\n",
      "Requirement already satisfied: certifi>=2025.4.26 in /Users/ademoyeoluwanifesimi/opt/anaconda3/lib/python3.9/site-packages (from selenium) (2025.4.26)\r\n",
      "Requirement already satisfied: typing_extensions~=4.13.2 in /Users/ademoyeoluwanifesimi/opt/anaconda3/lib/python3.9/site-packages (from selenium) (4.13.2)\r\n",
      "Requirement already satisfied: websocket-client~=1.8.0 in /Users/ademoyeoluwanifesimi/opt/anaconda3/lib/python3.9/site-packages (from selenium) (1.8.0)\r\n",
      "Requirement already satisfied: attrs>=23.2.0 in /Users/ademoyeoluwanifesimi/opt/anaconda3/lib/python3.9/site-packages (from trio~=0.30.0->selenium) (25.3.0)\r\n",
      "Requirement already satisfied: sortedcontainers in /Users/ademoyeoluwanifesimi/opt/anaconda3/lib/python3.9/site-packages (from trio~=0.30.0->selenium) (2.4.0)\r\n",
      "Requirement already satisfied: idna in /Users/ademoyeoluwanifesimi/opt/anaconda3/lib/python3.9/site-packages (from trio~=0.30.0->selenium) (3.4)\r\n",
      "Requirement already satisfied: outcome in /Users/ademoyeoluwanifesimi/opt/anaconda3/lib/python3.9/site-packages (from trio~=0.30.0->selenium) (1.3.0.post0)\r\n",
      "Requirement already satisfied: sniffio>=1.3.0 in /Users/ademoyeoluwanifesimi/opt/anaconda3/lib/python3.9/site-packages (from trio~=0.30.0->selenium) (1.3.0)\r\n",
      "Requirement already satisfied: exceptiongroup in /Users/ademoyeoluwanifesimi/opt/anaconda3/lib/python3.9/site-packages (from trio~=0.30.0->selenium) (1.2.2)\r\n",
      "Requirement already satisfied: wsproto>=0.14 in /Users/ademoyeoluwanifesimi/opt/anaconda3/lib/python3.9/site-packages (from trio-websocket~=0.12.2->selenium) (1.2.0)\r\n",
      "Requirement already satisfied: pysocks!=1.5.7,<2.0,>=1.5.6 in /Users/ademoyeoluwanifesimi/opt/anaconda3/lib/python3.9/site-packages (from urllib3[socks]~=2.4.0->selenium) (1.7.1)\r\n",
      "Requirement already satisfied: h11<1,>=0.9.0 in /Users/ademoyeoluwanifesimi/opt/anaconda3/lib/python3.9/site-packages (from wsproto>=0.14->trio-websocket~=0.12.2->selenium) (0.14.0)\r\n"
     ]
    }
   ],
   "source": [
    "!pip install selenium"
   ]
  },
  {
   "cell_type": "code",
   "execution_count": 2,
   "id": "f0e3c84f",
   "metadata": {},
   "outputs": [
    {
     "name": "stdout",
     "output_type": "stream",
     "text": [
      "Requirement already satisfied: selenium in /Users/ademoyeoluwanifesimi/opt/anaconda3/lib/python3.9/site-packages (4.33.0)\r\n",
      "Requirement already satisfied: urllib3~=2.4.0 in /Users/ademoyeoluwanifesimi/opt/anaconda3/lib/python3.9/site-packages (from urllib3[socks]~=2.4.0->selenium) (2.4.0)\r\n",
      "Requirement already satisfied: trio~=0.30.0 in /Users/ademoyeoluwanifesimi/opt/anaconda3/lib/python3.9/site-packages (from selenium) (0.30.0)\r\n",
      "Requirement already satisfied: trio-websocket~=0.12.2 in /Users/ademoyeoluwanifesimi/opt/anaconda3/lib/python3.9/site-packages (from selenium) (0.12.2)\r\n",
      "Requirement already satisfied: certifi>=2025.4.26 in /Users/ademoyeoluwanifesimi/opt/anaconda3/lib/python3.9/site-packages (from selenium) (2025.4.26)\r\n",
      "Requirement already satisfied: typing_extensions~=4.13.2 in /Users/ademoyeoluwanifesimi/opt/anaconda3/lib/python3.9/site-packages (from selenium) (4.13.2)\r\n",
      "Requirement already satisfied: websocket-client~=1.8.0 in /Users/ademoyeoluwanifesimi/opt/anaconda3/lib/python3.9/site-packages (from selenium) (1.8.0)\r\n",
      "Requirement already satisfied: attrs>=23.2.0 in /Users/ademoyeoluwanifesimi/opt/anaconda3/lib/python3.9/site-packages (from trio~=0.30.0->selenium) (25.3.0)\r\n",
      "Requirement already satisfied: sortedcontainers in /Users/ademoyeoluwanifesimi/opt/anaconda3/lib/python3.9/site-packages (from trio~=0.30.0->selenium) (2.4.0)\r\n",
      "Requirement already satisfied: idna in /Users/ademoyeoluwanifesimi/opt/anaconda3/lib/python3.9/site-packages (from trio~=0.30.0->selenium) (3.4)\r\n",
      "Requirement already satisfied: outcome in /Users/ademoyeoluwanifesimi/opt/anaconda3/lib/python3.9/site-packages (from trio~=0.30.0->selenium) (1.3.0.post0)\r\n",
      "Requirement already satisfied: sniffio>=1.3.0 in /Users/ademoyeoluwanifesimi/opt/anaconda3/lib/python3.9/site-packages (from trio~=0.30.0->selenium) (1.3.0)\r\n",
      "Requirement already satisfied: exceptiongroup in /Users/ademoyeoluwanifesimi/opt/anaconda3/lib/python3.9/site-packages (from trio~=0.30.0->selenium) (1.2.2)\r\n",
      "Requirement already satisfied: wsproto>=0.14 in /Users/ademoyeoluwanifesimi/opt/anaconda3/lib/python3.9/site-packages (from trio-websocket~=0.12.2->selenium) (1.2.0)\r\n",
      "Requirement already satisfied: pysocks!=1.5.7,<2.0,>=1.5.6 in /Users/ademoyeoluwanifesimi/opt/anaconda3/lib/python3.9/site-packages (from urllib3[socks]~=2.4.0->selenium) (1.7.1)\r\n",
      "Requirement already satisfied: h11<1,>=0.9.0 in /Users/ademoyeoluwanifesimi/opt/anaconda3/lib/python3.9/site-packages (from wsproto>=0.14->trio-websocket~=0.12.2->selenium) (0.14.0)\r\n"
     ]
    }
   ],
   "source": [
    "!pip install selenium"
   ]
  },
  {
   "cell_type": "code",
   "execution_count": 116,
   "id": "cbd2f462-b67a-4a7c-b220-dadf0e5e5fff",
   "metadata": {
    "scrolled": true
   },
   "outputs": [
    {
     "name": "stdout",
     "output_type": "stream",
     "text": [
      "Venezuela - Wikipedia\n",
      "\n",
      "Colonization\n",
      "f.2066BF93C44952CC79537966A7E1464C.d.771CDCDD5B0EF05C715E36EC21BF1137.e.8925\n",
      "^ Hidrocarburos, Venezuela Ministerio de Minas e (1962). Memoria - Ministerio de Minas e Hidrocarburos (in Spanish). El Ministerio. Archived from the original on 29 November 2023. Retrieved 14 August 2021.\n",
      "Main menu\n",
      "Venezuela,[c] officially the Bolivarian Republic of Venezuela,[d] is a country on the northern coast of South America, consisting of a continental landmass and many islands and islets in the Caribbean Sea. It comprises an area of 916,445 km2 (353,841 sq mi), and its population was estimated at 29 million in 2022.[18] The capital and largest urban agglomeration is the city of Caracas. The continental territory is bordered on the north by the Caribbean Sea and the Atlantic Ocean, on the west by Colombia, Brazil on the south, Trinidad and Tobago to the north-east and on the east by Guyana. Venezuela is a presidential republic consisting of 23 states, the Capital District and federal dependencies covering Venezuela's offshore islands. Venezuela is among the most urbanized countries in Latin America;[22][23] the vast majority of Venezuelans live in the cities of the north and in the capital.\n"
     ]
    }
   ],
   "source": [
    "from selenium.webdriver import Chrome\n",
    "from selenium.webdriver.support.ui import Select\n",
    "from selenium.webdriver.support.ui import WebDriverWait\n",
    "from selenium.webdriver.common.by import By\n",
    "from selenium import webdriver\n",
    "from selenium.webdriver.chrome.options import Options\n",
    "from selenium.webdriver.support import expected_conditions as EC\n",
    "from fake_useragent import UserAgent\n",
    "#from selenium.webdriver.common.desired_capabilities import DesiredCapabilities\n",
    "from selenium.webdriver.chrome.service import Service\n",
    "import time\n",
    "from fake_useragent import UserAgent  # For generating random user agents\n",
    "import pandas as pd  # For data manipulation and creating DataFrames\n",
    "import numpy as np\n",
    "\n",
    "\n",
    "service = Service(executable_path='/Users/ademoyeoluwanifesimi/Downloads/chromedriver-mac-arm64/chromedriver')\n",
    "# Initialize the WebDriver\n",
    "driver = webdriver.Chrome(service=service)\n",
    "# Open a website\n",
    "driver.get(\"https://en.wikipedia.org/wiki/Venezuela\")\n",
    "\n",
    "\n",
    "\n",
    "print(driver.title)\n",
    "\n",
    "flag_img = driver.find_element(By.XPATH, '//*[@id=\"mw-content-text\"]/div[1]/table[1]/tbody/tr[2]/td/div/div[1]/div[1]/span/a/img')\n",
    "print(flag_img.text)\n",
    "\n",
    "topic = driver.find_element(By.XPATH, '//*[@id=\"Colonization\"]')\n",
    "print(topic.text)\n",
    "\n",
    "\n",
    "list_link = driver.find_element(By.XPATH, '//*[@id=\"p-lang-btn\"]/div/div/ul/li[200]/a')\n",
    "print(list_link.id)\n",
    "\n",
    "\n",
    "tan = driver.find_element(By.ID, \"cite_note-205\")\n",
    "print(tan.text)\n",
    "\n",
    "\n",
    "span_elements = driver.find_elements(By.TAG_NAME, \"span\")\n",
    "print(span_elements[1].text)\n",
    "\n",
    "# loew = driver.find_elements(By.TAG_NAME, \"img\")\n",
    "# print(loew[2].text)\n",
    "\n",
    "\n",
    "p_elements = driver.find_elements(By.TAG_NAME, \"p\")\n",
    "if p_elements:\n",
    "    print(p_elements[1].text)\n",
    "\n",
    "\n",
    "link = driver.find_element(By.LINK_TEXT, \"South America\")\n",
    "link.click()\n",
    "\n",
    "catholic_link = driver.find_element(By.PARTIAL_LINK_TEXT, \"Catholicism\")\n",
    "driver.implicitly_wait(10) \n",
    "catholic_link.click()\n",
    "\n",
    "\n",
    "\n",
    "\n",
    "\n",
    "\n",
    "account_create = driver.find_element(By.ID, \"pt-createaccount-2\")\n",
    "account_create.click()\n",
    "      \n",
    "      \n",
    "# Close the browser\n",
    "driver.quit()"
   ]
  }
 ],
 "metadata": {
  "kernelspec": {
   "display_name": "Python 3 (ipykernel)",
   "language": "python",
   "name": "python3"
  },
  "language_info": {
   "codemirror_mode": {
    "name": "ipython",
    "version": 3
   },
   "file_extension": ".py",
   "mimetype": "text/x-python",
   "name": "python",
   "nbconvert_exporter": "python",
   "pygments_lexer": "ipython3",
   "version": "3.9.12"
  }
 },
 "nbformat": 4,
 "nbformat_minor": 5
}
